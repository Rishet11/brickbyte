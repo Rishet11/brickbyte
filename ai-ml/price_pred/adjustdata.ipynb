{
 "cells": [
  {
   "cell_type": "code",
   "execution_count": 1,
   "metadata": {},
   "outputs": [],
   "source": [
    "import pandas as pd\n",
    "\n",
    "# Load dataset\n",
    "df = pd.read_csv(\"Dataset.csv\")\n",
    "\n",
    "# Normalize Total_House_Price (min-max scaling)\n",
    "price_min = df[\"Total_House_Price ($)\"].min()\n",
    "price_max = df[\"Total_House_Price ($)\"].max()\n",
    "df[\"Price_Scaling_Factor\"] = (df[\"Total_House_Price ($)\"] - price_min) / (price_max - price_min)\n",
    "\n",
    "# Adjust variables\n",
    "direct_vars = [\n",
    "    \"Rental_Yield (%)\",\n",
    "    \"Appreciation_Rate (%)\",\n",
    "    \"Public_Transport_Access (Score)\",\n",
    "    \"School_Ratings (Out of 5)\",\n",
    "    \"Walkability_Score (Out of 100)\",\n",
    "    \"House_Size (sq ft)\",  # Only adjust House_Size\n",
    "]\n",
    "\n",
    "inverse_vars = [\"Crime_Rate (per 100k)\"]\n",
    "\n",
    "for var in direct_vars:\n",
    "    df[var] = df[var] * (1 + df[\"Price_Scaling_Factor\"])\n",
    "\n",
    "for var in inverse_vars:\n",
    "    df[var] = df[var] * (1 - df[\"Price_Scaling_Factor\"])\n",
    "\n",
    "# Recalculate Price_per_sq_ft to maintain Total_House_Price = House_Size × Price_per_sq_ft\n",
    "df[\"Price_per_sq_ft ($)\"] = df[\"Total_House_Price ($)\"] / df[\"House_Size (sq ft)\"]\n",
    "\n",
    "# Enforce bounds\n",
    "df[\"School_Ratings (Out of 5)\"] = df[\"School_Ratings (Out of 5)\"].clip(upper=5)\n",
    "df[\"Crime_Rate (per 100k)\"] = df[\"Crime_Rate (per 100k)\"].clip(lower=0)\n",
    "\n",
    "# Drop scaling factor column\n",
    "df.drop(columns=[\"Price_Scaling_Factor\"], inplace=True)\n",
    "\n",
    "# Save adjusted dataset\n",
    "df.to_csv(\"Adjusted_Dataset.csv\", index=False)"
   ]
  }
 ],
 "metadata": {
  "kernelspec": {
   "display_name": "Python 3",
   "language": "python",
   "name": "python3"
  },
  "language_info": {
   "codemirror_mode": {
    "name": "ipython",
    "version": 3
   },
   "file_extension": ".py",
   "mimetype": "text/x-python",
   "name": "python",
   "nbconvert_exporter": "python",
   "pygments_lexer": "ipython3",
   "version": "3.9.6"
  }
 },
 "nbformat": 4,
 "nbformat_minor": 2
}
